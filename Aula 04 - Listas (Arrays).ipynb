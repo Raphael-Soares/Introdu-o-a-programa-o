{
  "cells": [
    {
      "cell_type": "code",
      "execution_count": null,
      "metadata": {
        "id": "gmZB360LRbnM",
        "outputId": "5aead500-597b-4c29-9ea8-b9f198b778af"
      },
      "outputs": [
        {
          "name": "stdout",
          "output_type": "stream",
          "text": [
            "[0, 1, 2, 3, 4, 5, 6, 7, 8, 9, 10, 11, 12, 13, 14, 15, 16, 17, 18, 19, 20, 21, 22, 23, 24, 25, 26, 27, 28, 29, 30, 31, 32, 33, 34, 35, 36, 37, 38, 39, 40, 41, 42, 43, 44, 45, 46, 47, 48, 49, 50, 51, 52, 53, 54, 55, 56, 57, 58, 59, 60, 61, 62, 63, 64, 65, 66, 67, 68, 69, 70, 71, 72, 73, 74, 75, 76, 77, 78, 79, 80, 81, 82, 83, 84, 85, 86, 87, 88, 89, 90, 91, 92, 93, 94, 95, 96, 97, 98, 99]\n"
          ]
        }
      ],
      "source": [
        "#1\n",
        "\n",
        "array = []\n",
        "\n",
        "for i in range(0,100):\n",
        "    array.append(i)\n",
        "\n",
        "\n",
        "print(array)"
      ]
    },
    {
      "cell_type": "code",
      "execution_count": null,
      "metadata": {
        "id": "rb45erQDRbnd",
        "outputId": "d19effcf-4ca1-4d64-a21c-648235774b7b"
      },
      "outputs": [
        {
          "name": "stdout",
          "output_type": "stream",
          "text": [
            "media: 5.5\n"
          ]
        }
      ],
      "source": [
        "#2\n",
        "\n",
        "\n",
        "notas = [10, 9, 8, 7, 6, 5, 4, 3, 2, 1]\n",
        "\n",
        "print(f'media: {sum(notas)/len(notas)}')\n"
      ]
    },
    {
      "cell_type": "code",
      "execution_count": null,
      "metadata": {
        "id": "13k2YMCnRbng"
      },
      "outputs": [],
      "source": [
        "#3\n",
        "\n",
        "\n",
        "notas = [10, 9, 8, 7, 6, 5, 4, 3, 2, 1]\n",
        "\n",
        "for nota in notas:\n",
        "    if nota>= 7:\n",
        "        print(nota)\n",
        "\n",
        "\n",
        "\n",
        "print(f'media: {sum(notas)/len(notas)}')"
      ]
    },
    {
      "cell_type": "code",
      "execution_count": null,
      "metadata": {
        "id": "vk0C3KR_Rbnj",
        "outputId": "517d97cf-0770-4e08-e652-2f427125b1bb"
      },
      "outputs": [
        {
          "name": "stdout",
          "output_type": "stream",
          "text": [
            "menor nota: 0\n",
            "maior nota: 10\n",
            "media: 5.419354838709677\n"
          ]
        }
      ],
      "source": [
        "#4 \n",
        "\n",
        "notas_alunos = [ 10, 9, 8, 7, 6, 5, 4, 3, 2, 1, 10, 9,8,7,6,5,4,3,2,1,2,3,4,5,6,7,8,9,0,8,6 ]\n",
        "\n",
        "notas_alunos.sort()\n",
        "\n",
        "\n",
        "print(f'menor nota: {notas_alunos[0]}')\n",
        "print(f'maior nota: {notas_alunos[-1]}')\n",
        "print(f'media: {sum(notas_alunos)/len(notas_alunos)}')"
      ]
    },
    {
      "cell_type": "code",
      "execution_count": null,
      "metadata": {
        "id": "j0DmUzYVRbnm",
        "outputId": "20fa97d0-8256-4cfa-e5b2-ef8cc6684570"
      },
      "outputs": [
        {
          "name": "stdout",
          "output_type": "stream",
          "text": [
            "69\n"
          ]
        }
      ],
      "source": [
        "#5 \n",
        "\n",
        "# 100 numbers array\n",
        "\n",
        "import random\n",
        "\n",
        "array = []\n",
        "\n",
        "for i in range(0,100):\n",
        "    array.append(random.randint(0,100))\n",
        "\n",
        "for i in array:\n",
        "    if i == 30:\n",
        "        print(array.index(i))\n"
      ]
    },
    {
      "cell_type": "code",
      "execution_count": null,
      "metadata": {
        "id": "3dBRzOuoRbnp"
      },
      "outputs": [],
      "source": [
        "# 6 \n",
        "\n",
        "A = []  \n",
        "soma = 0\n",
        "\n",
        "for _ in range(100):\n",
        "    valor = float(input(\"Digite um valor: \"))\n",
        "    A.append(valor)\n",
        "    soma += valor\n",
        "\n",
        "print(\"O somatório dos valores é:\", soma)"
      ]
    },
    {
      "cell_type": "code",
      "source": [
        "#7\n",
        "\n",
        "vetor = []  \n",
        "\n",
        "for _ in range(200):\n",
        "    valor = float(input(\"Digite um valor: \"))\n",
        "    vetor.append(valor)\n",
        "\n",
        "vetor.reverse()\n",
        "\n",
        "print(\"Vetor na ordem contrária:\")\n",
        "print(vetor)"
      ],
      "metadata": {
        "id": "AaJgyMrTSoCx"
      },
      "execution_count": null,
      "outputs": []
    },
    {
      "cell_type": "code",
      "source": [
        "#8\n",
        "\n",
        "vetor1 = []\n",
        "vetor2 = []\n",
        "vetor3 = []\n",
        "\n",
        "for _ in range(10):\n",
        "    valor1 = float(input(\"Digite um valor para o vetor 1: \"))\n",
        "    valor2 = float(input(\"Digite um valor para o vetor 2: \"))\n",
        "    vetor1.append(valor1)\n",
        "    vetor2.append(valor2)\n",
        "    vetor3.append(valor1 + valor2)\n",
        "\n",
        "print(\"VETOR 1:\", vetor1)\n",
        "print(\"VETOR 2:\", vetor2)\n",
        "print(\"VETOR 3:\", vetor3)"
      ],
      "metadata": {
        "id": "6knt0BHmSu8u"
      },
      "execution_count": null,
      "outputs": []
    },
    {
      "cell_type": "code",
      "source": [
        "#9\n",
        "\n",
        "vetor1 = []\n",
        "vetor2 = []\n",
        "vetor_intercalado = []\n",
        "\n",
        "for _ in range(25):\n",
        "    valor1 = float(input(\"Digite um valor para o vetor 1: \"))\n",
        "    valor2 = float(input(\"Digite um valor para o vetor 2: \"))\n",
        "    vetor1.append(valor1)\n",
        "    vetor2.append(valor2)\n",
        "    vetor_intercalado.append(valor1)\n",
        "    vetor_intercalado.append(valor2)\n",
        "\n",
        "print(\"Vetor intercalado:\")\n",
        "print(vetor_intercalado)"
      ],
      "metadata": {
        "id": "VbM24yUASyDh"
      },
      "execution_count": null,
      "outputs": []
    },
    {
      "cell_type": "code",
      "source": [
        "# 10\n",
        "\n",
        "A = [num for num in range(1,100)]\n",
        "\n",
        "for  valor in A:\n",
        "    print(A.index(valor) +1/ valor)"
      ],
      "metadata": {
        "id": "2Ns0wISWWol_",
        "outputId": "da7d6188-70f9-4d29-af54-687e31f2d400",
        "colab": {
          "base_uri": "https://localhost:8080/"
        }
      },
      "execution_count": 8,
      "outputs": [
        {
          "output_type": "stream",
          "name": "stdout",
          "text": [
            "1.0\n",
            "1.5\n",
            "2.3333333333333335\n",
            "3.25\n",
            "4.2\n",
            "5.166666666666667\n",
            "6.142857142857143\n",
            "7.125\n",
            "8.11111111111111\n",
            "9.1\n",
            "10.090909090909092\n",
            "11.083333333333334\n",
            "12.076923076923077\n",
            "13.071428571428571\n",
            "14.066666666666666\n",
            "15.0625\n",
            "16.058823529411764\n",
            "17.055555555555557\n",
            "18.05263157894737\n",
            "19.05\n",
            "20.047619047619047\n",
            "21.045454545454547\n",
            "22.043478260869566\n",
            "23.041666666666668\n",
            "24.04\n",
            "25.03846153846154\n",
            "26.037037037037038\n",
            "27.035714285714285\n",
            "28.03448275862069\n",
            "29.033333333333335\n",
            "30.032258064516128\n",
            "31.03125\n",
            "32.03030303030303\n",
            "33.029411764705884\n",
            "34.02857142857143\n",
            "35.02777777777778\n",
            "36.027027027027025\n",
            "37.026315789473685\n",
            "38.02564102564103\n",
            "39.025\n",
            "40.02439024390244\n",
            "41.023809523809526\n",
            "42.02325581395349\n",
            "43.02272727272727\n",
            "44.022222222222226\n",
            "45.02173913043478\n",
            "46.02127659574468\n",
            "47.020833333333336\n",
            "48.02040816326531\n",
            "49.02\n",
            "50.01960784313726\n",
            "51.01923076923077\n",
            "52.0188679245283\n",
            "53.01851851851852\n",
            "54.018181818181816\n",
            "55.017857142857146\n",
            "56.01754385964912\n",
            "57.01724137931034\n",
            "58.016949152542374\n",
            "59.016666666666666\n",
            "60.01639344262295\n",
            "61.016129032258064\n",
            "62.01587301587302\n",
            "63.015625\n",
            "64.01538461538462\n",
            "65.01515151515152\n",
            "66.01492537313433\n",
            "67.01470588235294\n",
            "68.01449275362319\n",
            "69.01428571428572\n",
            "70.01408450704226\n",
            "71.01388888888889\n",
            "72.01369863013699\n",
            "73.01351351351352\n",
            "74.01333333333334\n",
            "75.01315789473684\n",
            "76.01298701298701\n",
            "77.01282051282051\n",
            "78.0126582278481\n",
            "79.0125\n",
            "80.01234567901234\n",
            "81.01219512195122\n",
            "82.01204819277109\n",
            "83.01190476190476\n",
            "84.01176470588236\n",
            "85.01162790697674\n",
            "86.01149425287356\n",
            "87.01136363636364\n",
            "88.01123595505618\n",
            "89.0111111111111\n",
            "90.01098901098901\n",
            "91.01086956521739\n",
            "92.01075268817205\n",
            "93.01063829787235\n",
            "94.01052631578948\n",
            "95.01041666666667\n",
            "96.01030927835052\n",
            "97.01020408163265\n",
            "98.01010101010101\n"
          ]
        }
      ]
    },
    {
      "cell_type": "code",
      "source": [
        "\n",
        "#11\n",
        "vetor1 = []\n",
        "vetor2 = []\n",
        "\n",
        "for valor in range(10):\n",
        "    vetor1.append(valor)\n",
        "\n",
        "for i, valor in enumerate(vetor1):\n",
        "    if i % 2 == 0:  \n",
        "        vetor2.append(valor * 3)\n",
        "    else:  \n",
        "        vetor2.append(valor / 2)\n",
        "\n",
        "print(\"Vetor 1:\", vetor1)\n",
        "print(\"Vetor 2:\", vetor2)\n"
      ],
      "metadata": {
        "id": "jxEZ52QwYHwe",
        "outputId": "f6e0366c-dcee-44ea-88af-4ee59f10e784",
        "colab": {
          "base_uri": "https://localhost:8080/"
        }
      },
      "execution_count": 9,
      "outputs": [
        {
          "output_type": "stream",
          "name": "stdout",
          "text": [
            "Vetor 1: [0, 1, 2, 3, 4, 5, 6, 7, 8, 9]\n",
            "Vetor 2: [0, 0.5, 6, 1.5, 12, 2.5, 18, 3.5, 24, 4.5]\n"
          ]
        }
      ]
    },
    {
      "cell_type": "code",
      "source": [
        "#12\n",
        "\n",
        "A = []\n",
        "\n",
        "for valor in range(20):\n",
        "    A.append(valor)\n",
        "\n",
        "S = 0\n",
        "\n",
        "for i in range(10):\n",
        "    S += (A[i] - A[19 - i]) ** 2\n",
        "\n",
        "print(\"Valor de S:\", S)\n"
      ],
      "metadata": {
        "id": "jKH-X5DsYg60",
        "outputId": "0dd09b32-4fc2-4ed8-f3e9-d64e6f8932cc",
        "colab": {
          "base_uri": "https://localhost:8080/"
        }
      },
      "execution_count": 10,
      "outputs": [
        {
          "output_type": "stream",
          "name": "stdout",
          "text": [
            "Valor de S: 1330\n"
          ]
        }
      ]
    },
    {
      "cell_type": "code",
      "source": [
        "VET = [elemento for elemento in range(20)]\n",
        "VET.sort()\n",
        "\n",
        "print(\"Vetor ordenado:\", VET)"
      ],
      "metadata": {
        "id": "KoPfmVyZZCtj"
      },
      "execution_count": null,
      "outputs": []
    },
    {
      "cell_type": "code",
      "source": [
        "VET = [elemento for elemento in range(128)]\n",
        "K = int(input(\"Digite o valor da chave (K): \"))\n",
        "\n",
        "encontrado = False\n",
        "posicao = -1\n",
        "\n",
        "for i, valor in enumerate(VET):\n",
        "    if valor == K:\n",
        "        encontrado = True\n",
        "        posicao = i\n",
        "        break\n",
        "\n",
        "if encontrado:\n",
        "    print(\"A chave\", K, \"foi encontrada na posição\", posicao)\n",
        "else:\n",
        "    print(\"CHAVE\", K, \"NÃO ENCONTRADA\")"
      ],
      "metadata": {
        "id": "18H7x96KZYTn"
      },
      "execution_count": null,
      "outputs": []
    },
    {
      "cell_type": "code",
      "source": [
        "VET = [elemento for elemento in range(128)]\n",
        "VET.sort()\n",
        "K = int(input(\"Digite o valor da chave (K): \"))\n",
        "\n",
        "encontrado = False\n",
        "posicao = -1\n",
        "inicio = 0\n",
        "fim = len(VET) - 1\n",
        "\n",
        "while inicio <= fim:\n",
        "    meio = (inicio + fim) // 2\n",
        "    if VET[meio] == K:\n",
        "        encontrado = True\n",
        "        posicao = meio\n",
        "        break\n",
        "    elif VET[meio] < K:\n",
        "        inicio = meio + 1\n",
        "    else:\n",
        "        fim = meio - 1\n",
        "\n",
        "if encontrado:\n",
        "    print(\"A chave\", K, \"foi encontrada na posição\", posicao)\n",
        "else:\n",
        "    print(\"CHAVE\", K, \"NÃO ENCONTRADA\")"
      ],
      "metadata": {
        "id": "T0ltU6N3ZbOy"
      },
      "execution_count": null,
      "outputs": []
    },
    {
      "cell_type": "code",
      "source": [
        "#17\n",
        "\n",
        "VET = [elemento for elemento in range(128)]\n",
        "VET.sort()\n",
        "K = int(input(\"Digite o valor da chave (K): \"))\n",
        "\n",
        "encontrado = False\n",
        "posicao = -1\n",
        "inicio = 0\n",
        "fim = len(VET) - 1\n",
        "\n",
        "while inicio <= fim:\n",
        "    meio = (inicio + fim) // 2\n",
        "    if VET[meio] == K:\n",
        "        encontrado = True\n",
        "        posicao = meio\n",
        "        break\n",
        "    elif VET[meio] < K:\n",
        "        inicio = meio + 1\n",
        "    else:\n",
        "        fim = meio - 1\n",
        "\n",
        "if encontrado:\n",
        "    print(\"A chave\", K, \"foi encontrada na posição\", posicao)\n",
        "else:\n",
        "    print(\"CHAVE\", K, \"NÃO ENCONTRADA\")\n"
      ],
      "metadata": {
        "id": "8-1u6f2gZdi8"
      },
      "execution_count": 11,
      "outputs": []
    },
    {
      "cell_type": "code",
      "source": [
        "#18\n",
        "\n",
        "matriz_A = []\n",
        "for _ in range(15):\n",
        "    linha = []\n",
        "    for _ in range(25):\n",
        "        elemento = int(input(\"Digite um elemento: \"))\n",
        "        linha.append(elemento)\n",
        "    matriz_A.append(linha)\n",
        "\n",
        "for linha in matriz_A:\n",
        "    print(linha)"
      ],
      "metadata": {
        "id": "cmgTK4HKZtkd"
      },
      "execution_count": 11,
      "outputs": []
    },
    {
      "cell_type": "code",
      "source": [
        "#19\n",
        "\n",
        "matriz_B = [[elemento for elemento in range(20)] for _ in range(10)]\n",
        "\n",
        "soma_quinta_linha = sum(matriz_B[4])\n",
        "\n",
        "print(\"Matriz B:\")\n",
        "for linha in matriz_B:\n",
        "    print(linha)\n",
        "\n",
        "print(\"Soma da quinta linha:\", soma_quinta_linha)"
      ],
      "metadata": {
        "id": "pqeawYGcZvCt"
      },
      "execution_count": null,
      "outputs": []
    },
    {
      "cell_type": "code",
      "source": [
        "#20\n",
        "\n",
        "tabela = [[elemento for elemento in range(1, 6)] for _ in range(4)]\n",
        "\n",
        "soma_linhas = [sum(linha) for linha in tabela]\n",
        "soma_total = sum(sum(linha) for linha in tabela)\n",
        "\n",
        "print(\"Tabela:\")\n",
        "for linha in tabela:\n",
        "    print(linha)\n",
        "\n",
        "print(\"Soma de cada linha:\", soma_linhas)\n",
        "print(\"Soma total:\", soma_total)"
      ],
      "metadata": {
        "id": "88R_NQobZvVW"
      },
      "execution_count": null,
      "outputs": []
    },
    {
      "cell_type": "code",
      "source": [
        "#21\n",
        "\n",
        "matriz = [[elemento for elemento in range(1, 5)] for _ in range(4)]\n",
        "k = 2\n",
        "\n",
        "for i in range(len(matriz)):\n",
        "    matriz[i][i] *= k\n",
        "\n",
        "print(\"Matriz resultante:\")\n",
        "for linha in matriz:\n",
        "    print(linha)"
      ],
      "metadata": {
        "id": "BBgg6qaWZvm-"
      },
      "execution_count": null,
      "outputs": []
    },
    {
      "cell_type": "code",
      "source": [
        "#22\n",
        "matriz = [[elemento for elemento in range(1, 21)] for _ in range(20)]\n",
        "\n",
        "for linha in matriz:\n",
        "    diagonal_principal = linha[linha.index(linha[0])]\n",
        "    linha[:] = [elemento / diagonal_principal for elemento in linha]\n",
        "\n",
        "print(\"Matriz modificada:\")\n",
        "for linha in matriz:\n",
        "    print(linha)"
      ],
      "metadata": {
        "id": "XJs-GAE0aF9u"
      },
      "execution_count": null,
      "outputs": []
    },
    {
      "cell_type": "code",
      "source": [
        "#23\n",
        "\n",
        "matriz = [[elemento for elemento in range(1, 11)] for _ in range(10)]\n",
        "\n",
        "print(\"Matriz:\")\n",
        "for linha in matriz:\n",
        "    print(linha)\n",
        "\n",
        "soma_abaixo_diagonal = sum(matriz[i][j] for i in range(len(matriz)) for j in range(i + 1))\n",
        "\n",
        "print(\"Soma dos elementos abaixo da diagonal principal:\", soma_abaixo_diagonal)\n"
      ],
      "metadata": {
        "id": "d28IHSMyaHIy"
      },
      "execution_count": null,
      "outputs": []
    },
    {
      "cell_type": "code",
      "source": [
        "#24\n",
        "\n",
        "matriz_A = [[elemento for elemento in range(1, 6)] for _ in range(3)]\n",
        "matriz_B = [[elemento for elemento in range(6, 11)] for _ in range(3)]\n",
        "\n",
        "matriz_soma = [[matriz_A[i][j] + matriz_B[i][j] for j in range(len(matriz_A[i]))] for i in range(len(matriz_A))]\n",
        "\n",
        "print(\"Matriz A:\")\n",
        "for linha in matriz_A:\n",
        "    print(linha)\n",
        "\n",
        "print(\"Matriz B:\")\n",
        "for linha in matriz_B:\n",
        "    print(linha)\n",
        "\n",
        "print(\"Matriz soma:\")\n",
        "for linha in matriz_soma:\n",
        "    print(linha)\n"
      ],
      "metadata": {
        "id": "O6MIU7EPaHhX"
      },
      "execution_count": null,
      "outputs": []
    },
    {
      "cell_type": "code",
      "source": [
        "#25\n",
        "\n",
        "matriz_MAT = [[elemento for elemento in range(1, 6)] for _ in range(4)]\n",
        "\n",
        "soma_linhas = [sum(linha) for linha in matriz_MAT]\n",
        "\n",
        "print(\"Matriz MAT:\")\n",
        "for linha in matriz_MAT:\n",
        "    print(linha)\n",
        "\n",
        "print(\"Vetor SOMALINHA:\", soma_linhas)\n"
      ],
      "metadata": {
        "id": "Wi9_jQW5aIcW"
      },
      "execution_count": null,
      "outputs": []
    },
    {
      "cell_type": "code",
      "source": [
        "#26\n",
        "\n"
      ],
      "metadata": {
        "id": "vrAwWNjzaIwr"
      },
      "execution_count": null,
      "outputs": []
    },
    {
      "cell_type": "code",
      "source": [
        "#27"
      ],
      "metadata": {
        "id": "7-z-7wtLaJBo"
      },
      "execution_count": null,
      "outputs": []
    },
    {
      "cell_type": "code",
      "source": [
        "#28"
      ],
      "metadata": {
        "id": "_DTtvD_haJWq"
      },
      "execution_count": null,
      "outputs": []
    },
    {
      "cell_type": "code",
      "source": [
        "#29"
      ],
      "metadata": {
        "id": "iTDWtLZAaJ3S"
      },
      "execution_count": null,
      "outputs": []
    },
    {
      "cell_type": "code",
      "source": [
        "#30"
      ],
      "metadata": {
        "id": "BN6vkN-caKIC"
      },
      "execution_count": null,
      "outputs": []
    },
    {
      "cell_type": "code",
      "source": [
        "#31\n",
        "\n",
        "matriz_A = [[0 for _ in range(6)] for _ in range(10)]\n",
        "\n",
        "for i in range(10):\n",
        "    for j in range(6):\n",
        "        if i < j:\n",
        "            matriz_A[i][j] = i / j\n",
        "        elif i == j:\n",
        "            matriz_A[i][j] = 0\n",
        "        else:\n",
        "            matriz_A[i][j] = j / i\n",
        "\n",
        "print(\"Matriz A:\")\n",
        "for linha in matriz_A:\n",
        "    print(linha)\n"
      ],
      "metadata": {
        "id": "0PDQtLCcaKbT"
      },
      "execution_count": null,
      "outputs": []
    },
    {
      "cell_type": "code",
      "source": [
        "#32\n",
        "\n",
        "matriz_X = [[18, 0, 1, 9.5], [20, 1, 6, 8.7], [19, 0, 6, 9.2], [21, 0, 3, 7.8]]\n",
        "\n",
        "melhor_nota = 0\n",
        "aluno_sexo_0_curso_6 = None\n",
        "\n",
        "for aluno in matriz_X:\n",
        "    if aluno[1] == 0 and aluno[2] == 6 and aluno[3] > melhor_nota:\n",
        "        melhor_nota = aluno[3]\n",
        "        aluno_sexo_0_curso_6 = aluno\n",
        "\n",
        "print(\"Aluno do sexo 0, curso 6, com a melhor nota:\")\n",
        "print(\"Idade:\", aluno_sexo_0_curso_6[0])\n",
        "print(\"Sexo:\", aluno_sexo_0_curso_6[1])\n",
        "print(\"Curso:\", aluno_sexo_0_curso_6[2])\n",
        "print(\"Nota:\", aluno_sexo_0_curso_6[3])\n"
      ],
      "metadata": {
        "id": "jboRVUVXaKy-"
      },
      "execution_count": null,
      "outputs": []
    },
    {
      "cell_type": "code",
      "source": [
        "#33"
      ],
      "metadata": {
        "id": "4vOtabyOaWJw"
      },
      "execution_count": null,
      "outputs": []
    },
    {
      "cell_type": "code",
      "source": [
        "#34"
      ],
      "metadata": {
        "id": "8PGrtg8VaXYo"
      },
      "execution_count": null,
      "outputs": []
    }
  ],
  "metadata": {
    "kernelspec": {
      "display_name": "Python 3",
      "language": "python",
      "name": "python3"
    },
    "language_info": {
      "codemirror_mode": {
        "name": "ipython",
        "version": 3
      },
      "file_extension": ".py",
      "mimetype": "text/x-python",
      "name": "python",
      "nbconvert_exporter": "python",
      "pygments_lexer": "ipython3",
      "version": "3.11.2"
    },
    "orig_nbformat": 4,
    "colab": {
      "provenance": []
    }
  },
  "nbformat": 4,
  "nbformat_minor": 0
}