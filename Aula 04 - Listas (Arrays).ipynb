{
 "cells": [
  {
   "cell_type": "code",
   "execution_count": 1,
   "metadata": {},
   "outputs": [
    {
     "name": "stdout",
     "output_type": "stream",
     "text": [
      "[0, 1, 2, 3, 4, 5, 6, 7, 8, 9, 10, 11, 12, 13, 14, 15, 16, 17, 18, 19, 20, 21, 22, 23, 24, 25, 26, 27, 28, 29, 30, 31, 32, 33, 34, 35, 36, 37, 38, 39, 40, 41, 42, 43, 44, 45, 46, 47, 48, 49, 50, 51, 52, 53, 54, 55, 56, 57, 58, 59, 60, 61, 62, 63, 64, 65, 66, 67, 68, 69, 70, 71, 72, 73, 74, 75, 76, 77, 78, 79, 80, 81, 82, 83, 84, 85, 86, 87, 88, 89, 90, 91, 92, 93, 94, 95, 96, 97, 98, 99]\n"
     ]
    }
   ],
   "source": [
    "#1\n",
    "\n",
    "array = []\n",
    "\n",
    "for i in range(0,100):\n",
    "    array.append(i)\n",
    "\n",
    "\n",
    "print(array)"
   ]
  },
  {
   "cell_type": "code",
   "execution_count": 2,
   "metadata": {},
   "outputs": [
    {
     "name": "stdout",
     "output_type": "stream",
     "text": [
      "media: 5.5\n"
     ]
    }
   ],
   "source": [
    "#2\n",
    "\n",
    "\n",
    "notas = [10, 9, 8, 7, 6, 5, 4, 3, 2, 1]\n",
    "\n",
    "print(f'media: {sum(notas)/len(notas)}')\n"
   ]
  },
  {
   "cell_type": "code",
   "execution_count": null,
   "metadata": {},
   "outputs": [],
   "source": [
    "#3\n",
    "\n",
    "\n",
    "notas = [10, 9, 8, 7, 6, 5, 4, 3, 2, 1]\n",
    "\n",
    "for nota in notas:\n",
    "    if nota>= 7:\n",
    "        print(nota)\n",
    "\n",
    "\n",
    "\n",
    "print(f'media: {sum(notas)/len(notas)}')"
   ]
  },
  {
   "cell_type": "code",
   "execution_count": 4,
   "metadata": {},
   "outputs": [
    {
     "name": "stdout",
     "output_type": "stream",
     "text": [
      "menor nota: 0\n",
      "maior nota: 10\n",
      "media: 5.419354838709677\n"
     ]
    }
   ],
   "source": [
    "#4 \n",
    "\n",
    "notas_alunos = [ 10, 9, 8, 7, 6, 5, 4, 3, 2, 1, 10, 9,8,7,6,5,4,3,2,1,2,3,4,5,6,7,8,9,0,8,6 ]\n",
    "\n",
    "notas_alunos.sort()\n",
    "\n",
    "\n",
    "print(f'menor nota: {notas_alunos[0]}')\n",
    "print(f'maior nota: {notas_alunos[-1]}')\n",
    "print(f'media: {sum(notas_alunos)/len(notas_alunos)}')"
   ]
  },
  {
   "cell_type": "code",
   "execution_count": 10,
   "metadata": {},
   "outputs": [
    {
     "name": "stdout",
     "output_type": "stream",
     "text": [
      "69\n"
     ]
    }
   ],
   "source": [
    "#5 \n",
    "\n",
    "# 100 numbers array\n",
    "\n",
    "import random\n",
    "\n",
    "array = []\n",
    "\n",
    "for i in range(0,100):\n",
    "    array.append(random.randint(0,100))\n",
    "\n",
    "for i in array:\n",
    "    if i == 30:\n",
    "        print(array.index(i))\n"
   ]
  },
  {
   "cell_type": "code",
   "execution_count": null,
   "metadata": {},
   "outputs": [],
   "source": []
  }
 ],
 "metadata": {
  "kernelspec": {
   "display_name": "Python 3",
   "language": "python",
   "name": "python3"
  },
  "language_info": {
   "codemirror_mode": {
    "name": "ipython",
    "version": 3
   },
   "file_extension": ".py",
   "mimetype": "text/x-python",
   "name": "python",
   "nbconvert_exporter": "python",
   "pygments_lexer": "ipython3",
   "version": "3.11.2"
  },
  "orig_nbformat": 4
 },
 "nbformat": 4,
 "nbformat_minor": 2
}
