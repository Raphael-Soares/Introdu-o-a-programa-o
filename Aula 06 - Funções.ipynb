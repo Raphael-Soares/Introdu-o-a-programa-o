{
 "cells": [
  {
   "cell_type": "code",
   "execution_count": null,
   "metadata": {},
   "outputs": [],
   "source": [
    "#1\n",
    "\n",
    "def c_to_f(far):\n",
    "    cel= (far - 32) * 5/9\n",
    "    return cel\n"
   ]
  },
  {
   "cell_type": "code",
   "execution_count": 2,
   "metadata": {},
   "outputs": [
    {
     "name": "stdout",
     "output_type": "stream",
     "text": [
      "5.0\n"
     ]
    }
   ],
   "source": [
    "#2 \n",
    "\n",
    "def hip(cat1, cat2):\n",
    "    hip = ((cat1 ** 2) + (cat2 ** 2)) ** (1/2)\n",
    "    return hip\n",
    "\n",
    "\n",
    "\n",
    "print(hip(3,4))"
   ]
  },
  {
   "cell_type": "code",
   "execution_count": null,
   "metadata": {},
   "outputs": [],
   "source": [
    "#3\n",
    "\n",
    "def calcular_media(nota1, nota2):\n",
    "    media = (nota1 + nota2) / 2\n",
    "    return media\n",
    "\n",
    "def verificar_aprovacao(media):\n",
    "    if media >= 6.0:\n",
    "        print(\"PARABÉNS! Você foi aprovado!\")\n",
    "    else:\n",
    "        print(\"Infelizmente você foi reprovado.\")\n",
    "\n",
    "nota1 = float(input(\"Digite a nota da primeira avaliação: \"))\n",
    "nota2 = float(input(\"Digite a nota da segunda avaliação: \"))\n",
    "\n",
    "media_aluno = calcular_media(nota1, nota2)\n",
    "print(\"Média semestral:\", media_aluno)\n",
    "verificar_aprovacao(media_aluno)\n"
   ]
  },
  {
   "cell_type": "code",
   "execution_count": null,
   "metadata": {},
   "outputs": [],
   "source": [
    "#4\n",
    "\n",
    "def pesoideal(altura, sexo):\n",
    "    if sexo == 1:  # Feminino\n",
    "        peso_ideal = (62.1 * altura) - 44.7\n",
    "    elif sexo == 2:  # Masculino\n",
    "        peso_ideal = (72.7 * altura) - 58\n",
    "    else:\n",
    "        print(\"Código de sexo inválido.\")\n",
    "        return None\n",
    "\n",
    "    return peso_ideal\n",
    "\n",
    "altura = float(input(\"Digite a altura (em metros): \"))\n",
    "sexo = int(input(\"Digite o sexo (1-feminino, 2-masculino): \"))\n",
    "\n",
    "peso_ideal = pesoideal(altura, sexo)\n",
    "if peso_ideal is not None:\n",
    "    print(\"Peso ideal:\", peso_ideal, \"kg\")\n"
   ]
  },
  {
   "cell_type": "code",
   "execution_count": null,
   "metadata": {},
   "outputs": [],
   "source": [
    "#5\n",
    "\n",
    "def verificar_poligono(lados, medida_lado):\n",
    "    if lados == 3:\n",
    "        print(\"TRIÂNGULO - Perímetro:\", lados * medida_lado)\n",
    "    elif lados == 4:\n",
    "        print(\"QUADRADO - Área:\", medida_lado ** 2)\n",
    "    elif lados == 5:\n",
    "        print(\"PENTÁGONO\")\n",
    "    else:\n",
    "        print(\"Polígono não suportado.\")\n",
    "\n",
    "lados = int(input(\"Digite o número de lados (3, 4 ou 5): \"))\n",
    "medida_lado = float(input(\"Digite a medida do lado (em cm): \"))\n",
    "\n",
    "verificar_poligono(lados, medida_lado)\n"
   ]
  },
  {
   "cell_type": "code",
   "execution_count": null,
   "metadata": {},
   "outputs": [],
   "source": [
    "#6\n",
    "\n",
    "def soma_intervalo(n1, n2):\n",
    "    soma = 0\n",
    "    for i in range(n1, n2 + 1):\n",
    "        soma += i\n",
    "    return soma\n",
    "\n",
    "n1 = int(input(\"Digite o primeiro número do intervalo: \"))\n",
    "n2 = int(input(\"Digite o segundo número do intervalo: \"))\n",
    "\n",
    "resultado = soma_intervalo(n1, n2)\n",
    "print(\"A soma dos números no intervalo é:\", resultado)\n"
   ]
  },
  {
   "cell_type": "code",
   "execution_count": null,
   "metadata": {},
   "outputs": [],
   "source": [
    "#7\n",
    "\n",
    "def imprimir_mes(numero):\n",
    "    meses = [\"janeiro\", \"fevereiro\", \"março\", \"abril\", \"maio\", \"junho\", \"julho\", \"agosto\", \"setembro\", \"outubro\", \"novembro\", \"dezembro\"]\n",
    "    if numero >= 1 and numero <= 12:\n",
    "        print(\"O mês correspondente ao número\", numero, \"é:\", meses[numero - 1])\n",
    "    else:\n",
    "        print(\"Número inválido. Não corresponde a um mês válido.\")\n",
    "\n",
    "valor = int(input(\"Digite um número inteiro: \"))\n",
    "imprimir_mes(valor)\n"
   ]
  },
  {
   "cell_type": "code",
   "execution_count": null,
   "metadata": {},
   "outputs": [],
   "source": [
    "#8\n",
    "\n",
    "def imprimir_dia_semana(numero):\n",
    "    dias_semana = [\"DOM\", \"SEG\", \"TER\", \"QUA\", \"QUI\", \"SEX\", \"SAB\"]\n",
    "    if numero >= 1 and numero <= 7:\n",
    "        print(\"Os três primeiros caracteres do dia da semana\", numero, \"é:\", dias_semana[numero - 1])\n",
    "    else:\n",
    "        print(\"Número inválido. Não corresponde a um dia da semana válido.\")\n",
    "\n",
    "valor = int(input(\"Digite um número inteiro: \"))\n",
    "imprimir_dia_semana(valor)\n"
   ]
  },
  {
   "cell_type": "code",
   "execution_count": null,
   "metadata": {},
   "outputs": [],
   "source": [
    "#9\n",
    "\n",
    "def verificar_divisivel(x, y):\n",
    "    if x % y == 0:\n",
    "        return 1\n",
    "    else:\n",
    "        return 0\n",
    "\n",
    "numero1 = int(input(\"Digite o primeiro número inteiro: \"))\n",
    "numero2 = int(input(\"Digite o segundo número inteiro: \"))\n",
    "\n",
    "resultado = verificar_divisivel(numero1, numero2)\n",
    "if resultado == 1:\n",
    "    print(numero1, \"é divisível por\", numero2)\n",
    "else:\n",
    "    print(numero1, \"não é divisível por\", numero2)\n"
   ]
  },
  {
   "cell_type": "code",
   "execution_count": null,
   "metadata": {},
   "outputs": [],
   "source": [
    "#10\n",
    "\n",
    "def encontrar_maior(numero1, numero2):\n",
    "    if numero1 > numero2:\n",
    "        return numero1\n",
    "    else:\n",
    "        return numero2\n",
    "\n",
    "valor1 = int(input(\"Digite o primeiro número: \"))\n",
    "valor2 = int(input(\"Digite o segundo número: \"))\n",
    "\n",
    "maior = encontrar_maior(valor1, valor2)\n",
    "print(\"O maior valor é:\", maior)\n"
   ]
  },
  {
   "cell_type": "code",
   "execution_count": null,
   "metadata": {},
   "outputs": [],
   "source": [
    "#11\n",
    "\n",
    "def polegadas_para_cm(polegadas):\n",
    "    cm = polegadas * 2.54\n",
    "    return cm\n",
    "\n",
    "valor_polegadas = float(input(\"Digite o valor em polegadas: \"))\n",
    "valor_cm = polegadas_para_cm(valor_polegadas)\n",
    "print(\"O valor em centímetros é:\", valor_cm)\n"
   ]
  }
 ],
 "metadata": {
  "kernelspec": {
   "display_name": "Python 3",
   "language": "python",
   "name": "python3"
  },
  "language_info": {
   "codemirror_mode": {
    "name": "ipython",
    "version": 3
   },
   "file_extension": ".py",
   "mimetype": "text/x-python",
   "name": "python",
   "nbconvert_exporter": "python",
   "pygments_lexer": "ipython3",
   "version": "3.11.2"
  },
  "orig_nbformat": 4
 },
 "nbformat": 4,
 "nbformat_minor": 2
}
