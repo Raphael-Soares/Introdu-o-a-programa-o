{
 "cells": [
  {
   "cell_type": "code",
   "execution_count": null,
   "metadata": {},
   "outputs": [],
   "source": [
    "#1. Fazer um algoritmo para ler o valor do lado de um quadrado e mostrar sua área( lado ) e seu perímetro ( 4 x lado ).\n",
    "\n",
    "lado = float(input(\"Digite o valor do lado do quadrado: \"))\n",
    "\n",
    "print(\"A área do quadrado é: \", lado * lado)\n",
    "print(\"O perímetro do quadrado é: \", 4 * lado)\n"
   ]
  },
  {
   "cell_type": "code",
   "execution_count": null,
   "metadata": {},
   "outputs": [],
   "source": [
    "#2. Elaborar um algoritmo para ler o nome e a quantidade de filhos de uma pessoa. Mostrar a mensagem: “Fulano tem 5 filhos.”\n",
    "\n",
    "nome = input(\"Digite o nome da pessoa: \")\n",
    "filhos = int(input(\"Digite a quantidade de filhos: \"))\n",
    "\n",
    "print(nome, \"tem\", filhos, \"filhos.\")\n",
    "\n"
   ]
  },
  {
   "cell_type": "code",
   "execution_count": null,
   "metadata": {},
   "outputs": [],
   "source": [
    "#3. Fazer um algoritmo para ler os valores da base e altura de um retângulo e mostrar seu perímetro ( 2 x ( base + altura ) ) e sua área ( base x altura ).\n",
    "\n",
    "base = float(input(\"Digite o valor da base do retângulo: \"))\n",
    "altura = float(input(\"Digite o valor da altura do retângulo: \"))\n",
    "\n",
    "print(\"O perímetro do retângulo é: \", 2 * (base + altura))\n",
    "print(\"A área do retângulo é: \", base * altura)\n",
    "\n"
   ]
  },
  {
   "cell_type": "code",
   "execution_count": null,
   "metadata": {},
   "outputs": [],
   "source": [
    "#4. Fazer um algoritmo para ler o valor do lado de um cubo e mostrar sua área ( 6 x lado2 ) e seu volume ( lado3 ).\n",
    "\n",
    "lado = float(input(\"Digite o valor do lado do cubo: \"))\n",
    "\n",
    "print(\"A área do cubo é: \", 6 * (lado * lado))\n",
    "print(\"O volume do cubo é: \", lado * lado * lado) "
   ]
  },
  {
   "cell_type": "code",
   "execution_count": null,
   "metadata": {},
   "outputs": [],
   "source": [
    "#5. Elaborar um algoritmo para ler dois números e mostrar o quociente e o resto da divisão inteira do primeiro pelo segundo número.\n",
    "\n",
    "numA = int(input(\"Digite o primeiro número: \"))\n",
    "numB = int(input(\"Digite o segundo número: \"))\n",
    "\n",
    "print(\"O quociente da divisão é: \", numA // numB)\n"
   ]
  },
  {
   "cell_type": "code",
   "execution_count": null,
   "metadata": {},
   "outputs": [],
   "source": [
    "#6. Criar um algoritmo para ler a base e a altura de um triângulo e mostrar a sua área ( ( base x altura ) / 2 ).\n",
    "\n",
    "base = float(input(\"Digite o valor da base do triângulo: \"))\n",
    "altura = float(input(\"Digite o valor da altura do triângulo: \"))\n",
    "\n",
    "print(\"A área do triângulo é: \", (base * altura) / 2)\n",
    "\n"
   ]
  },
  {
   "cell_type": "code",
   "execution_count": null,
   "metadata": {},
   "outputs": [],
   "source": [
    "#7. Construir um algoritmo para ler o raio de uma circunferência e mostrar o perímetro ( 2 x π x raio ) e a área ( π x raio2 ). Utilize o π como constante.\n",
    "\n",
    "import math\n",
    "\n",
    "raio = float(input(\"Digite o valor do raio da circunferência: \"))\n",
    "circunferência = 2 * math.pi * raio\n",
    "\n",
    "print(\"O perímetro da circunferência é: \", circunferência)\n",
    "print(\"A área da circunferência é: \", math.pi * (raio * raio))"
   ]
  }
 ],
 "metadata": {
  "language_info": {
   "name": "python"
  },
  "orig_nbformat": 4
 },
 "nbformat": 4,
 "nbformat_minor": 2
}
