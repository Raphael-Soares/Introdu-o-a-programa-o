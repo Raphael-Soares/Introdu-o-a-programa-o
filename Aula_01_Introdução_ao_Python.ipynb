{
  "cells": [
    {
      "cell_type": "code",
      "execution_count": 2,
      "metadata": {
        "colab": {
          "base_uri": "https://localhost:8080/"
        },
        "id": "DO566f4wAnY5",
        "outputId": "4c06319c-ae4a-4bb9-ed7b-c913abf028a3"
      },
      "outputs": [
        {
          "name": "stdout",
          "output_type": "stream",
          "text": [
            "insira o primeiro valor23\n",
            "insira o outro valor434\n",
            "o resultado é 457.0\n"
          ]
        }
      ],
      "source": [
        "#1. Faça um programa que peça dois números inteiros e imprima a soma desses dois números.\n",
        "\n",
        "numA = float(input(\"insira o primeiro valor\"))\n",
        "numB = float(input(\"insira o outro valor\"))\n",
        "\n",
        "print(\"o resultado é\", numA + numB)"
      ]
    },
    {
      "cell_type": "code",
      "execution_count": null,
      "metadata": {
        "id": "91mpJ0OeBFfN"
      },
      "outputs": [],
      "source": [
        "#2. Escreva um programa que leia um valor em metros e o exiba convertido em milímetros.\n",
        "\n",
        "metros = float(input(\"Insira o valor em metros:\"))\n",
        "\n",
        "print(\"O valor em milímetros é:\", metros * 1000)"
      ]
    },
    {
      "cell_type": "code",
      "execution_count": null,
      "metadata": {},
      "outputs": [],
      "source": [
        "#3. Escreva um programa que leia a quantidade de dias, horas, minutos e segundos do usuário. Calcule o total em segundos.\n",
        "\n",
        "dias = int(input(\"Insira a quantidade de dias:\"))\n",
        "horas = int(input(\"Insira a quantidade de horas:\"))\n",
        "minutos = int(input(\"Insira a quantidade de minutos:\"))\n",
        "segundos = int(input(\"Insira a quantidade de segundos:\"))\n",
        "\n",
        "print(\"O total em segundos é:\", dias * 86400 + horas * 3600 + minutos * 60 + segundos)\n"
      ]
    },
    {
      "cell_type": "code",
      "execution_count": null,
      "metadata": {},
      "outputs": [],
      "source": [
        "#4. Faça um programa que calcule o aumento de um salário. Ele deve solicitar o valor do salário e a porcentagem do aumento. Exiba o valor do aumento e do novo salário.\n",
        "\n",
        "salario = float(input(\"Insira o valor do salário:\"))\n",
        "aumento = float(input(\"Insira a porcentagem do aumento:\"))\n",
        "\n",
        "print(\"O valor do aumento é:\", salario * aumento / 100)\n",
        "\n",
        "print(\"O novo salário é:\", salario + salario * aumento / 100)\n",
        "\n"
      ]
    },
    {
      "cell_type": "code",
      "execution_count": null,
      "metadata": {},
      "outputs": [],
      "source": [
        "#5. Solicite o preço de uma mercadoria e o percentual de desconto. Exiba o valor do desconto e o preço a pagar.\n",
        "\n",
        "preco = float(input(\"Insira o preço da mercadoria:\"))\n",
        "desconto = float(input(\"Insira a porcentagem de desconto:\"))\n",
        "\n",
        "print(\"O valor do desconto é:\", preco * desconto / 100)\n",
        "\n",
        "print(\"O preço a pagar é:\", preco - preco * desconto / 100)\n",
        "\n"
      ]
    },
    {
      "cell_type": "code",
      "execution_count": null,
      "metadata": {},
      "outputs": [],
      "source": [
        "#6. Calcule o tempo de uma viagem de carro. Pergunte a distância a percorrer e a velocidade média esperada para a viagem.\n",
        "\n",
        "distancia = float(input(\"Insira a distância a percorrer:\"))\n",
        "velocidade = float(input(\"Insira a velocidade média esperada:\"))\n",
        "\n",
        "print(\"O tempo da viagem é:\", distancia / velocidade, \"horas\")\n",
        "\n",
        "\n",
        "\n"
      ]
    },
    {
      "cell_type": "code",
      "execution_count": null,
      "metadata": {},
      "outputs": [],
      "source": []
    }
  ],
  "metadata": {
    "colab": {
      "provenance": []
    },
    "kernelspec": {
      "display_name": "Python 3",
      "name": "python3"
    },
    "language_info": {
      "name": "python"
    }
  },
  "nbformat": 4,
  "nbformat_minor": 0
}
