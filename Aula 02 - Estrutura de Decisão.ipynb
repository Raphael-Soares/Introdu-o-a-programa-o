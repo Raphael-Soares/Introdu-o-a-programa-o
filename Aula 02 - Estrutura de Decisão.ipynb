{
 "cells": [
  {
   "cell_type": "code",
   "execution_count": null,
   "metadata": {},
   "outputs": [],
   "source": [
    "# 1\n",
    "\n",
    "numero = 40\n",
    "\n",
    "if numero >= 20 and numero <= 90:\n",
    "    print(\"Numero no intervalo [20,90]\")\n",
    "else:\n",
    "    print(\"Numero fora do intervalo [20,90]\")\n"
   ]
  },
  {
   "cell_type": "code",
   "execution_count": null,
   "metadata": {},
   "outputs": [],
   "source": [
    "a = 2\n",
    "b = 4\n",
    "c = 6\n",
    "\n",
    "if c > 5:\n",
    "    d = (a - b) * c\n",
    "else:\n",
    "    d = (a + b) * c\n",
    "\n",
    "print(d)\n"
   ]
  },
  {
   "cell_type": "code",
   "execution_count": null,
   "metadata": {},
   "outputs": [],
   "source": [
    "# 2\n",
    "\n",
    "valor = float(input(\"Digite um valor: \"))\n",
    "\n",
    "if valor > 0:\n",
    "    print(\"O valor é positivo.\")\n",
    "elif valor < 0:\n",
    "    print(\"O valor é negativo.\")\n",
    "else:\n",
    "    print(\"O valor é zero.\")\n"
   ]
  },
  {
   "cell_type": "code",
   "execution_count": null,
   "metadata": {},
   "outputs": [],
   "source": [
    "# 3\n",
    "\n",
    "valor = float(input(\"Digite um valor: \"))\n",
    "\n",
    "if valor > 10:\n",
    "    print(\"MAIOR QUE 10\")\n",
    "elif valor < 10:\n",
    "    print(\"MENOR QUE 10\")\n",
    "else:\n",
    "    print(\"IGUAL A 10\")"
   ]
  },
  {
   "cell_type": "code",
   "execution_count": null,
   "metadata": {},
   "outputs": [],
   "source": [
    "# 4\n",
    "\n",
    "valor = float(input(\"Digite um valor: \"))\n",
    "valor2 = float(input(\"Digite um valor: \"))\n",
    "\n",
    "if valor + valor2 > 10:\n",
    "    print(valor + valor2)\n"
   ]
  },
  {
   "cell_type": "code",
   "execution_count": null,
   "metadata": {},
   "outputs": [],
   "source": [
    "\n",
    "#5\n",
    "valor = float(input(\"Digite um valor: \"))\n",
    "\n",
    "if valor % 5 == 0:\n",
    "    print(\"É divisível por 5\")\n",
    "    \n",
    "    "
   ]
  },
  {
   "cell_type": "code",
   "execution_count": null,
   "metadata": {},
   "outputs": [],
   "source": [
    "# 6 \n",
    "\n",
    "valor = float(input(\"Digite um valor: \"))\n",
    "\n",
    "if valor > 20 and valor < 90:\n",
    "    print(\"O valor está no intervalo [20,90]\")\n",
    "    \n",
    "    "
   ]
  },
  {
   "cell_type": "code",
   "execution_count": null,
   "metadata": {},
   "outputs": [],
   "source": [
    "# 7\n",
    "\n",
    "ano_atual = int(input(\"Digite o ano atual: \"))\n",
    "ano_nascimento = int(input(\"Digite o ano de nascimento: \"))\n",
    "\n",
    "idade = ano_atual - ano_nascimento\n",
    "\n",
    "if idade >= 16:\n",
    "    print(\"Você poderá votar este ano!\")\n",
    "else:\n",
    "    print(\"Você não poderá votar este ano.\")\n"
   ]
  },
  {
   "cell_type": "code",
   "execution_count": null,
   "metadata": {},
   "outputs": [],
   "source": [
    "# 8\n",
    "\n",
    "\n",
    "ano_nascimento = input(\"Digite o ano de nascimento: \")\n",
    "\n",
    "if len(ano_nascimento) != 4 :\n",
    "    print(\"Ano inválido.\")\n",
    "else:\n",
    "    ano_nascimento = int(ano_nascimento)\n",
    "    ano_atual = 2023\n",
    "    idade = ano_atual - ano_nascimento\n",
    "    print(f\"Sua idade é {idade} anos.\")\n"
   ]
  },
  {
   "cell_type": "code",
   "execution_count": null,
   "metadata": {},
   "outputs": [],
   "source": [
    "# 9 \n",
    "\n",
    "idade = int(input(\"Digite a idade: \"))\n",
    "\n",
    "if idade >= 18 and idade < 65:\n",
    "    print(\"Maior de idade.\")\n",
    "elif idade < 18:\n",
    "    print(\"Menor de idade.\")\n",
    "else:\n",
    "    print(\"Acima de 65 anos.\")\n"
   ]
  },
  {
   "cell_type": "code",
   "execution_count": null,
   "metadata": {},
   "outputs": [],
   "source": [
    "# 10\n",
    "\n",
    "nota1 = float(input(\"Digite a nota da 1ª avaliação: \"))\n",
    "nota2 = float(input(\"Digite a nota da 2ª avaliação: \"))\n",
    "\n",
    "media = (nota1 + nota2) / 2\n",
    "\n",
    "if media >= 6:\n",
    "    print(\"Aluno aprovado!\")\n",
    "else:\n",
    "    print(\"Aluno reprovado.\")\n",
    "    \n",
    "print(f\"Média: {media}\")\n"
   ]
  },
  {
   "cell_type": "code",
   "execution_count": null,
   "metadata": {},
   "outputs": [],
   "source": [
    "# 11\n",
    "\n",
    "nota1 = float(input(\"Digite a primeira nota: \"))\n",
    "nota2 = float(input(\"Digite a segunda nota: \"))\n",
    "\n",
    "media = (nota1 + nota2) / 2\n",
    "\n",
    "if media >= 7:\n",
    "    print(\"Aprovado\")\n",
    "else:\n",
    "    nota_exame = float(input(\"Digite a nota do exame: \"))\n",
    "    media_final = (media + nota_exame) / 2\n",
    "    \n",
    "    if media_final >= 5:\n",
    "        print(\"Aprovado\")\n",
    "    else:\n",
    "        print(\"Reprovado\")\n"
   ]
  },
  {
   "cell_type": "code",
   "execution_count": null,
   "metadata": {},
   "outputs": [],
   "source": [
    "#12 \n",
    "\n",
    "horas_aula_prof1 = int(input(\"Digite a quantidade de horas aula dadas pelo primeiro professor: \"))\n",
    "valor_hora_prof1 = float(input(\"Digite o valor recebido por hora pelo primeiro professor: \"))\n",
    "\n",
    "horas_aula_prof2 = int(input(\"Digite a quantidade de horas aula dadas pelo segundo professor: \"))\n",
    "valor_hora_prof2 = float(input(\"Digite o valor recebido por hora pelo segundo professor: \"))\n",
    "\n",
    "salario_prof1 = horas_aula_prof1 * valor_hora_prof1\n",
    "salario_prof2 = horas_aula_prof2 * valor_hora_prof2\n",
    "\n",
    "if salario_prof1 > salario_prof2:\n",
    "    print(\"O primeiro professor tem salário total maior.\")\n",
    "elif salario_prof1 < salario_prof2:\n",
    "    print(\"O segundo professor tem salário total maior.\")\n",
    "else:\n",
    "    print(\"Os professores têm salário total igual.\")\n"
   ]
  },
  {
   "cell_type": "code",
   "execution_count": null,
   "metadata": {},
   "outputs": [],
   "source": [
    "#13\n",
    "\n",
    "numero = int(input(\"Digite um número inteiro: \"))\n",
    "\n",
    "if numero % 2 == 0:\n",
    "    print(\"O número é par.\")\n",
    "else:\n",
    "    print(\"O número é ímpar.\")\n"
   ]
  },
  {
   "cell_type": "code",
   "execution_count": null,
   "metadata": {},
   "outputs": [],
   "source": [
    "#14\n",
    "\n",
    "time1 = input(\"Digite o nome do primeiro time: \")\n",
    "gols_time1 = int(input(\"Digite o número de gols marcados pelo primeiro time: \"))\n",
    "\n",
    "time2 = input(\"Digite o nome do segundo time: \")\n",
    "gols_time2 = int(input(\"Digite o número de gols marcados pelo segundo time: \"))\n",
    "\n",
    "if gols_time1 > gols_time2:\n",
    "    print(\"O vencedor é o time\", time1)\n",
    "elif gols_time1 < gols_time2:\n",
    "    print(\"O vencedor é o time\", time2)\n",
    "else:\n",
    "    print(\"EMPATE\")\n"
   ]
  },
  {
   "cell_type": "code",
   "execution_count": null,
   "metadata": {},
   "outputs": [],
   "source": [
    "#15\n",
    "estado = input(\"Digite a sigla do estado: \")\n",
    "\n",
    "if estado.upper() == \"RJ\":\n",
    "    print(\"Carioca\")\n",
    "elif estado.upper() == \"SP\":\n",
    "    print(\"Paulista\")\n",
    "elif estado.upper() == \"MG\":\n",
    "    print(\"Mineiro\")\n",
    "else:\n",
    "    print(\"Outros\")\n"
   ]
  },
  {
   "cell_type": "code",
   "execution_count": null,
   "metadata": {},
   "outputs": [],
   "source": [
    "#16\n",
    "\n",
    "valor_compra = float(input(\"Digite o valor de compra do produto: \"))\n",
    "\n",
    "if valor_compra < 20:\n",
    "    lucro = 0.45\n",
    "else:\n",
    "    lucro = 0.3\n",
    "\n",
    "valor_venda = valor_compra + (valor_compra * lucro)\n",
    "\n",
    "print(\"O valor de venda do produto é R$\", valor_venda)\n"
   ]
  },
  {
   "cell_type": "code",
   "execution_count": null,
   "metadata": {},
   "outputs": [],
   "source": [
    "#17\n",
    "numero = int(input(\"Digite um número de 1 a 12: \"))\n",
    "\n",
    "if numero == 1:\n",
    "    print(\"Janeiro\")\n",
    "elif numero == 2:\n",
    "    print(\"Fevereiro\")\n",
    "elif numero == 3:\n",
    "    print(\"Março\")\n",
    "elif numero == 4:\n",
    "    print(\"Abril\")\n",
    "elif numero == 5:\n",
    "    print(\"Maio\")\n",
    "elif numero == 6:\n",
    "    print(\"Junho\")\n",
    "elif numero == 7:\n",
    "    print(\"Julho\")\n",
    "elif numero == 8:\n",
    "    print(\"Agosto\")\n",
    "elif numero == 9:\n",
    "    print(\"Setembro\")\n",
    "elif numero == 10:\n",
    "    print(\"Outubro\")\n",
    "elif numero == 11:\n",
    "    print(\"Novembro\")\n",
    "elif numero == 12:\n",
    "    print(\"Dezembro\")\n",
    "else:\n",
    "    print(\"Número inválido. Digite um número de 1 a 12.\")\n"
   ]
  },
  {
   "cell_type": "code",
   "execution_count": null,
   "metadata": {},
   "outputs": [],
   "source": [
    "#18\n",
    "\n",
    "letra = input(\"Digite uma letra: \")\n",
    "\n",
    "if letra in \"aeiouAEIOU\":\n",
    "    print(\"A letra digitada é uma vogal.\")\n",
    "else:\n",
    "    print(\"A letra digitada é uma consoante.\")\n"
   ]
  },
  {
   "cell_type": "code",
   "execution_count": null,
   "metadata": {},
   "outputs": [],
   "source": [
    "#19\n",
    "valor1 = float(input(\"Digite o primeiro valor: \"))\n",
    "valor2 = float(input(\"Digite o segundo valor: \"))\n",
    "\n",
    "if valor1 > valor2:\n",
    "    print(\"O maior valor é:\", valor1)\n",
    "else:\n",
    "    print(\"O maior valor é:\", valor2)\n"
   ]
  },
  {
   "cell_type": "code",
   "execution_count": null,
   "metadata": {},
   "outputs": [],
   "source": [
    "#18\n",
    "\n"
   ]
  }
 ],
 "metadata": {
  "kernelspec": {
   "display_name": "Python 3",
   "language": "python",
   "name": "python3"
  },
  "language_info": {
   "codemirror_mode": {
    "name": "ipython",
    "version": 3
   },
   "file_extension": ".py",
   "mimetype": "text/x-python",
   "name": "python",
   "nbconvert_exporter": "python",
   "pygments_lexer": "ipython3",
   "version": "3.10.6"
  },
  "orig_nbformat": 4
 },
 "nbformat": 4,
 "nbformat_minor": 2
}
