{
 "cells": [
  {
   "cell_type": "code",
   "execution_count": null,
   "metadata": {},
   "outputs": [],
   "source": [
    "#1. Faça um Programa que mostre a mensagem \"Alo mundo\" na tela.\n",
    "\n",
    "\n",
    "print(\"Alo mundo\")"
   ]
  },
  {
   "cell_type": "code",
   "execution_count": null,
   "metadata": {},
   "outputs": [],
   "source": [
    "#2. Faça um Programa que peça um número e então mostre a mensagem O número informado foi [número].\n",
    "\n",
    "numero = input(\"Digite um número: \")\n",
    "print(\"O número informado foi\", numero)"
   ]
  },
  {
   "cell_type": "code",
   "execution_count": null,
   "metadata": {},
   "outputs": [],
   "source": [
    "#3. Faça um Programa que peça dois números e imprima a soma.\n",
    "\n",
    "numero1 = int(input(\"Digite o primeiro número: \"))\n",
    "numero2 = int(input(\"Digite o segundo número: \"))\n",
    "soma = numero1 + numero2\n",
    "print(\"A soma dos números é\", soma)"
   ]
  },
  {
   "cell_type": "code",
   "execution_count": null,
   "metadata": {},
   "outputs": [],
   "source": [
    "#4. Faça um Programa que peça as 4 notas bimestrais e mostre a média.\n",
    "\n",
    "nota1 = float(input(\"Digite a primeira nota: \"))\n",
    "nota2 = float(input(\"Digite a segunda nota: \"))\n",
    "nota3 = float(input(\"Digite a terceira nota: \"))\n",
    "nota4 = float(input(\"Digite a quarta nota: \"))\n",
    "media = (nota1 + nota2 + nota3 + nota4) / 4\n",
    "print(\"A média das notas é\", media)"
   ]
  },
  {
   "cell_type": "code",
   "execution_count": null,
   "metadata": {},
   "outputs": [],
   "source": [
    "#5. Faça um Programa que converta metros para centímetros.\n",
    "metros = float(input(\"Digite o valor em metros: \"))\n",
    "centimetros = metros * 100\n",
    "print(metros, \"metros equivalem a\", centimetros, \"centímetros\")"
   ]
  },
  {
   "cell_type": "code",
   "execution_count": null,
   "metadata": {},
   "outputs": [],
   "source": [
    "#6. Faça um Programa que peça o raio de um círculo, calcule e mostre sua área.\n",
    "raio = float(input(\"Digite o raio do círculo: \"))\n",
    "area = 3.14 * (raio ** 2)\n",
    "print(\"A área do círculo é\", area)"
   ]
  },
  {
   "cell_type": "code",
   "execution_count": null,
   "metadata": {},
   "outputs": [],
   "source": [
    "#7. Faça um Programa que calcule a área de um quadrado, em seguida mostre o dobro desta área para o usuário.\n",
    "lado = float(input(\"Digite o tamanho do lado do quadrado: \"))\n",
    "area = lado ** 2\n",
    "dobro_area = area * 2\n",
    "print(\"A área do quadrado é\", area)\n",
    "print(\"O dobro da área do quadrado é\", dobro_area)"
   ]
  },
  {
   "cell_type": "code",
   "execution_count": null,
   "metadata": {},
   "outputs": [],
   "source": [
    "#8. Faça um Programa que pergunte quanto você ganha por hora e o número de horas trabalhadas no mês. Calcule e mostre o total do seu salário no referido mês.\n",
    "farenheit = float(input(\"Digite a temperatura em Farenheit: \"))\n",
    "celsius = (5 * (farenheit - 32)) / 9\n",
    "print(\"A temperatura em Celsius é\", celsius)"
   ]
  },
  {
   "cell_type": "code",
   "execution_count": null,
   "metadata": {},
   "outputs": [],
   "source": [
    "#9. Faça um Programa que peça a temperatura em graus Farenheit, transforme e mostre a temperatura em graus Celsius.\n",
    "celsius = float(input(\"Digite a temperatura em Celsius: \"))\n",
    "farenheit = (celsius * 9/5) + 32\n",
    "print(\"A temperatura em Farenheit é\", farenheit)"
   ]
  },
  {
   "cell_type": "code",
   "execution_count": null,
   "metadata": {},
   "outputs": [],
   "source": [
    "#10. Faça um Programa que peça a temperatura em graus Celsius, transforme e mostre em graus Farenheit.\n",
    "\n",
    "celsius = float(input(\"Digite a temperatura em graus Celsius: \"))\n",
    "farenheit = (celsius * 9/5) + 32\n",
    "print(\"A temperatura em graus Farenheit é:\", farenheit)\n"
   ]
  },
  {
   "cell_type": "code",
   "execution_count": null,
   "metadata": {},
   "outputs": [],
   "source": [
    "#11. Faça um Programa que peça 2 números inteiros e um número real. Calcule e mostre:\n",
    "    #a. o produto do dobro do primeiro com metade do segundo .\n",
    "    #b. a soma do triplo do primeiro com\n",
    "    \n",
    "    \n",
    "num1 = int(input(\"Digite o primeiro número inteiro: \"))\n",
    "num2 = int(input(\"Digite o segundo número inteiro: \"))\n",
    "num3 = float(input(\"Digite o número real: \"))\n",
    "\n",
    "resultado_a = num1 * num2\n",
    "resultado_b = (3 * num1) + num3\n",
    "\n",
    "print(\"O produto do dobro do primeiro com metade do segundo é:\", resultado_a)\n",
    "print(\"A soma do triplo do primeiro com o terceiro número é:\", resultado_b)\n",
    "\n",
    "    \n",
    "    "
   ]
  },
  {
   "cell_type": "code",
   "execution_count": null,
   "metadata": {},
   "outputs": [],
   "source": [
    "#12.Tendo como dados de entrada a altura de uma pessoa, construa um algoritmo que calcule seu peso ideal, usando a seguinte fórmula: (72.7*altura) - 58\n",
    "altura = float(input(\"Digite a altura da pessoa em metros: \"))\n",
    "peso_ideal = (72.7 * altura) - 58\n",
    "print(\"O peso ideal para essa pessoa é:\", peso_ideal, \"kg\")\n"
   ]
  },
  {
   "cell_type": "code",
   "execution_count": null,
   "metadata": {},
   "outputs": [],
   "source": [
    "#13.Tendo como dados de entrada a altura e o sexo de uma pessoa, construa um algoritmo que calcule seu peso ideal, utilizando as seguintes fórmulas:\n",
    "    #a. Para homens: (72.7*h) - 58  \n",
    "    #b. Para mulheres: (62.1*h) - 44.7 (h = altura)\n",
    "    #c. Peça o peso da pessoa e informe se ela está dentro, acima ou abaixo do peso. \n",
    "    \n",
    "altura = float(input(\"Digite a altura da pessoa em metros: \"))\n",
    "sexo = input(\"Digite o sexo da pessoa (M/F): \")\n",
    "if sexo.upper() == \"M\":\n",
    "    peso_ideal = (72.7 * altura) - 58\n",
    "elif sexo.upper() == \"F\":\n",
    "    peso_ideal = (62.1 * altura) - 44.7\n",
    "else:\n",
    "    print(\"Sexo inválido.\")\n",
    "    exit()\n",
    "    \n",
    "print(\"O peso ideal para essa pessoa é:\", peso_ideal, \"kg\")\n",
    "\n",
    "peso_atual = float(input(\"Digite o peso atual da pessoa em kg: \"))\n",
    "if peso_atual < peso_ideal:\n",
    "    print(\"A pessoa está abaixo do peso ideal.\")\n",
    "elif peso_atual > peso_ideal:\n",
    "    print(\"A pessoa está acima do peso ideal.\")\n",
    "else:\n",
    "    print(\"A pessoa está no peso ideal.\")\n"
   ]
  },
  {
   "cell_type": "code",
   "execution_count": null,
   "metadata": {},
   "outputs": [],
   "source": [
    "#14. João Papo-de-Pescador, homem de bem, comprou um microcomputador para controlar o rendimento diário de\n",
    "#seu trabalho. Toda vez que ele traz um peso de peixes maior que o estabelecido pelo regulamento de pesca do\n",
    "#estado de São Paulo (50 quilos) deve pagar uma multa de R$ 4,00 por quilo excedente. João precisa que você\n",
    "#faça um programa que leia a variável peso (peso de peixes) e verifique se há excesso. Se houver, gravar na\n",
    "#variável excesso e na variável multa\n",
    "\n",
    "peso = float(input(\"Digite o peso dos peixes em kg: \"))\n",
    "if peso <= 50:\n",
    "    excesso = 0\n",
    "    multa = 0\n",
    "else:\n",
    "    excesso = peso - 50\n",
    "    multa = excesso * 4\n",
    "print(\"Excesso de peso:\", excesso, \"kg\")\n",
    "print(\"Valor da multa a ser paga:\", multa, \"reais\")\n"
   ]
  },
  {
   "cell_type": "code",
   "execution_count": null,
   "metadata": {},
   "outputs": [],
   "source": [
    "#15. Faça um Programa que pergunte quanto você ganha por hora e o número de horas trabalhadas no mês.\n",
    "#Calcule e mostre o total do seu salário no referido mês, sabendo-se que são descontados 11% para o Imposto\n",
    "#de Renda, 8% para o INSS e 5% para o sindicato, faça um programa que nos dê:\n",
    "#a. salário bruto.\n",
    "#b. quanto pagou ao INSS.\n",
    "#c. quanto pagou ao sindicato.\n",
    "#d. o salário líquido. calcule os descontos e o salário líquido, conforme a tabela abaixo:\n",
    "\n",
    "valor_hora = float(input(\"Digite o valor que você ganha por hora: \"))\n",
    "horas_trabalhadas = float(input(\"Digite o número de horas trabalhadas no mês: \"))\n",
    "\n",
    "salario_bruto = valor_hora * horas_trabalhadas\n",
    "imposto_renda = salario_bruto * 0.11\n",
    "inss = salario_bruto * 0.08\n",
    "sindicato = salario_bruto * 0.05\n",
    "salario_liquido = salario_bruto - imposto_renda - inss - sindicato\n",
    "\n",
    "print(\"Salário Bruto:\", salario_bruto)\n",
    "print(\"Imposto de Renda (11%):\", imposto_renda)\n",
    "print(\"INSS (8%):\", inss)\n",
    "print(\"Sindicato (5%):\", sindicato)\n",
    "print(\"Salário Líquido:\", salario_liquido)\n"
   ]
  },
  {
   "cell_type": "code",
   "execution_count": null,
   "metadata": {},
   "outputs": [],
   "source": [
    "#16. Faça um programa para uma loja de tintas. O programa deverá pedir o tamanho em metros quadrados da área\n",
    "#a ser pintada. Considere que a cobertura da tinta é de 1 litro para cada 3 metros quadrados e que a tinta é\n",
    "#vendida em latas de 18 litros, que custam R$ 80,00. Informe ao usuário a quantidades de latas de tinta a serem\n",
    "#compradas e o preço total.\n",
    "\n",
    "import math\n",
    "\n",
    "area = float(input(\"Digite o tamanho em metros quadrados da área a ser pintada: \"))\n",
    "litros = area / 3\n",
    "latas = math.ceil(litros / 18)\n",
    "preco = latas * 80\n",
    "\n",
    "print(\"Você precisará de\", latas, \"latas de tinta\")\n",
    "print(\"O preço total é de R$\", preco)\n",
    "\n"
   ]
  },
  {
   "cell_type": "code",
   "execution_count": null,
   "metadata": {},
   "outputs": [],
   "source": [
    "#17. Faça um Programa para uma loja de tintas. O programa deverá pedir o tamanho em metros quadrados da área\n",
    "#a ser pintada. Considere que a cobertura da tinta é de 1 litro para cada 6 metros quadrados e que a tinta é\n",
    "#vendida em latas de 18 litros, que custam R$ 80,00 ou em galões de 3,6 litros, que custam R$ 25,00.\n",
    "#Informe ao usuário as quantidades de tinta a serem compradas e os respectivos preços em 3 situações:\n",
    "#\n",
    "#comprar apenas latas de 18 litros;\n",
    "#comprar apenas galões de 3,6 litros;\n",
    "#misturar latas e galões, de forma que o preço seja o menor. Acrescente 10% de folga e sempre\n",
    "#arredonde os valores para cima, isto é, considere latas cheias.\n",
    "\n",
    "import math\n",
    "\n",
    "area = float(input(\"Digite o tamanho da área a ser pintada em metros quadrados: \"))\n",
    "\n",
    "litros = area / 6 * 1.1\n",
    "latas = math.ceil(litros / 18)\n",
    "galoes = math.ceil(litros / 3.6)\n",
    "\n",
    "preco_latas = latas * 80\n",
    "preco_galoes = galoes * 25\n",
    "\n",
    "latas = math.floor(litros / 18)\n",
    "resto = litros % 18\n",
    "galoes = math.ceil(resto / 3.6)\n",
    "\n",
    "preco_misto = latas * 80\n",
    "preco_misto += galoes * 25\n",
    "\n",
    "print(\"Opção 1 - Comprar apenas latas de 18 litros:\")\n",
    "print(f\"Quantidade de latas de tinta: {latas}\")\n",
    "print(f\"Preço total: R$ {preco_latas:.2f}\\n\")\n",
    "\n",
    "print(\"Opção 2 - Comprar apenas galões de 3,6 litros:\")\n",
    "print(f\"Quantidade de galões de tinta: {galoes}\")\n",
    "print(f\"Preço total: R$ {preco_galoes:.2f}\\n\")\n",
    "\n",
    "print(\"Opção 3 - Misturar latas e galões:\")\n",
    "print(f\"Quantidade de latas de tinta: {latas}\")\n",
    "print(f\"Quantidade de galões de tinta: {galoes}\")\n",
    "print(f\"Preço total: R$ {preco_misto:.2f}\")\n"
   ]
  },
  {
   "cell_type": "code",
   "execution_count": null,
   "metadata": {},
   "outputs": [],
   "source": [
    "#18. Faça um programa que peça o tamanho de um arquivo para download (em MB) e a velocidade de um link de\n",
    "#Internet (em Mbps), calcule e informe o tempo aproximado de download do arquivo usando este link (em\n",
    "#minutos).\n",
    "\n",
    "tamanho_arquivo = float(input(\"Digite o tamanho do arquivo em MB: \"))\n",
    "velocidade_internet = float(input(\"Digite a velocidade da internet em Mbps: \"))\n",
    "tamanho_arquivo = tamanho_arquivo * 8\n",
    "tempo_download_segundos = tamanho_arquivo / velocidade_internet\n",
    "tempo_download_minutos = tempo_download_segundos / 60\n",
    "tempo_download_minutos = round(tempo_download_minutos + 0.5)\n",
    "print(\"O tempo aproximado de download é de\", tempo_download_minutos, \"minutos.\")\n"
   ]
  }
 ],
 "metadata": {
  "language_info": {
   "name": "python"
  },
  "orig_nbformat": 4
 },
 "nbformat": 4,
 "nbformat_minor": 2
}
