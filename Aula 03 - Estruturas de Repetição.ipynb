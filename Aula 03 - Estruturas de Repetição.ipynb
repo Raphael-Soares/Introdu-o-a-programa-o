{
 "cells": [
  {
   "cell_type": "code",
   "execution_count": null,
   "metadata": {},
   "outputs": [],
   "source": [
    "#1 \n",
    "\n",
    "for num in range(-5,15):\n",
    "    if num > 0:\n",
    "        print(f\"{num} é positivo\")\n",
    "    elif num < 0:\n",
    "        print(f\"{num} é negativo\")\n",
    "    else:\n",
    "        print(f\"{num} é zero\")\n",
    "        "
   ]
  },
  {
   "cell_type": "code",
   "execution_count": null,
   "metadata": {},
   "outputs": [],
   "source": [
    "#2\n",
    "\n",
    "for num in range(1,15):\n",
    "    if num % 2 == 0:\n",
    "        print(f\"{num} é par\")\n",
    "    else:\n",
    "        print(f\"{num} é impar\")"
   ]
  },
  {
   "cell_type": "code",
   "execution_count": null,
   "metadata": {},
   "outputs": [],
   "source": [
    "#3\n",
    "\n",
    "num = int(input(\"Digite um número: \"))\n",
    "\n",
    "maior,menor = num,num\n",
    "\n",
    "while num != 0:\n",
    "    num = int(input(\"Digite um número: \"))\n",
    "    if num > maior:\n",
    "        maior = num\n",
    "    elif num < menor:\n",
    "        menor = num"
   ]
  },
  {
   "cell_type": "code",
   "execution_count": null,
   "metadata": {},
   "outputs": [],
   "source": [
    "#4\n",
    "\n",
    "pares = 0\n",
    "impares = 0\n",
    "\n",
    "for num in range(1,100):\n",
    "    if num % 2 == 0:\n",
    "        pares = pares + num\n",
    "    else:\n",
    "        impares = impares + num\n",
    "    "
   ]
  },
  {
   "cell_type": "code",
   "execution_count": null,
   "metadata": {},
   "outputs": [],
   "source": [
    "#5\n",
    "\n",
    "alturas = []\n",
    "\n",
    "for pessoa in range(20):\n",
    "    alturas.append(float(input(\"Digite a altura: \")))\n",
    "    \n",
    "media = sum(alturas)/len(alturas)"
   ]
  }
 ],
 "metadata": {
  "language_info": {
   "name": "python"
  },
  "orig_nbformat": 4
 },
 "nbformat": 4,
 "nbformat_minor": 2
}
