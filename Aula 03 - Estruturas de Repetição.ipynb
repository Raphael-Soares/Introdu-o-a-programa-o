{
 "cells": [
  {
   "cell_type": "code",
   "execution_count": null,
   "metadata": {},
   "outputs": [
    {
     "name": "stdout",
     "output_type": "stream",
     "text": [
      "-5 é negativo\n",
      "-4 é negativo\n",
      "-3 é negativo\n",
      "-2 é negativo\n",
      "-1 é negativo\n",
      "0 é zero\n",
      "1 é positivo\n",
      "2 é positivo\n",
      "3 é positivo\n",
      "4 é positivo\n",
      "5 é positivo\n",
      "6 é positivo\n",
      "7 é positivo\n",
      "8 é positivo\n",
      "9 é positivo\n",
      "10 é positivo\n",
      "11 é positivo\n",
      "12 é positivo\n",
      "13 é positivo\n",
      "14 é positivo\n"
     ]
    }
   ],
   "source": [
    "#1 \n",
    "\n",
    "for num in range(-5,15):\n",
    "    if num > 0:\n",
    "        print(f\"{num} é positivo\")\n",
    "    elif num < 0:\n",
    "        print(f\"{num} é negativo\")\n",
    "    else:\n",
    "        print(f\"{num} é zero\")\n",
    "        "
   ]
  },
  {
   "cell_type": "code",
   "execution_count": 2,
   "metadata": {},
   "outputs": [
    {
     "name": "stdout",
     "output_type": "stream",
     "text": [
      "1 é impar\n",
      "2 é par\n",
      "3 é impar\n",
      "4 é par\n",
      "5 é impar\n",
      "6 é par\n",
      "7 é impar\n",
      "8 é par\n",
      "9 é impar\n",
      "10 é par\n",
      "11 é impar\n",
      "12 é par\n",
      "13 é impar\n",
      "14 é par\n"
     ]
    }
   ],
   "source": [
    "#2\n",
    "\n",
    "for num in range(1,15):\n",
    "    if num % 2 == 0:\n",
    "        print(f\"{num} é par\")\n",
    "    else:\n",
    "        print(f\"{num} é impar\")"
   ]
  },
  {
   "cell_type": "code",
   "execution_count": 7,
   "metadata": {},
   "outputs": [
    {
     "name": "stdout",
     "output_type": "stream",
     "text": [
      "o maior é 90 e o menor é 0\n"
     ]
    }
   ],
   "source": [
    "#3\n",
    "\n",
    "num = int(input(\"Digite um número: \"))\n",
    "\n",
    "maior,menor = num,num\n",
    "\n",
    "while num != 0:\n",
    "    num = int(input(\"Digite um número: \"))\n",
    "    if num > maior:\n",
    "        maior = num\n",
    "    elif num < menor:\n",
    "        menor = num\n",
    "    \n",
    "    \n",
    "print(f'o maior é {maior} e o menor é {menor}')\n"
   ]
  },
  {
   "cell_type": "code",
   "execution_count": null,
   "metadata": {},
   "outputs": [],
   "source": [
    "#4\n",
    "\n",
    "pares = 0\n",
    "impares = 0\n",
    "\n",
    "for num in range(1,100):\n",
    "    if num % 2 == 0:\n",
    "        pares = pares + num\n",
    "    else:\n",
    "        impares = impares + num\n",
    "    "
   ]
  },
  {
   "cell_type": "code",
   "execution_count": null,
   "metadata": {},
   "outputs": [],
   "source": [
    "#5\n",
    "\n",
    "alturas = []\n",
    "\n",
    "for pessoa in range(20):\n",
    "    alturas.append(float(input(\"Digite a altura: \")))\n",
    "    \n",
    "media = sum(alturas)/len(alturas)"
   ]
  },
  {
   "cell_type": "code",
   "execution_count": null,
   "metadata": {},
   "outputs": [],
   "source": [
    "#6\n",
    "\n",
    "qnt_negativos = 0 \n",
    "for num in range (-10,10):\n",
    "    if num < 0:\n",
    "        qnt_negativos +=1\n",
    "    "
   ]
  },
  {
   "cell_type": "code",
   "execution_count": null,
   "metadata": {},
   "outputs": [],
   "source": [
    "#7\n",
    "qnt_tinta =100\n",
    "\n",
    "while qnt_tinta != 0:\n",
    "    print(\"Enquanto tem tinta a caneta escreve...\")\n",
    "    qnt_tinta -= 2"
   ]
  },
  {
   "cell_type": "code",
   "execution_count": 1,
   "metadata": {},
   "outputs": [
    {
     "ename": "AttributeError",
     "evalue": "'int' object has no attribute 'append'",
     "output_type": "error",
     "traceback": [
      "\u001b[0;31m---------------------------------------------------------------------------\u001b[0m",
      "\u001b[0;31mAttributeError\u001b[0m                            Traceback (most recent call last)",
      "Cell \u001b[0;32mIn[1], line 9\u001b[0m\n\u001b[1;32m      7\u001b[0m \u001b[39mfor\u001b[39;00m atletas \u001b[39min\u001b[39;00m \u001b[39mrange\u001b[39m(\u001b[39m20\u001b[39m):\n\u001b[1;32m      8\u001b[0m     inscricao, altura \u001b[39m=\u001b[39m \u001b[39minput\u001b[39m(\u001b[39m\"\u001b[39m\u001b[39mDigite a inscrição\u001b[39m\u001b[39m\"\u001b[39m), \u001b[39minput\u001b[39m(\u001b[39m\"\u001b[39m\u001b[39mDigite a altura\u001b[39m\u001b[39m\"\u001b[39m)\n\u001b[0;32m----> 9\u001b[0m     atletas\u001b[39m.\u001b[39;49mappend({inscricao,altura})\n\u001b[1;32m     12\u001b[0m \u001b[39mfor\u001b[39;00m atleta \u001b[39min\u001b[39;00m atletas:\n\u001b[1;32m     13\u001b[0m     \u001b[39mprint\u001b[39m(\u001b[39mf\u001b[39m\u001b[39m'\u001b[39m\u001b[39mO atleta \u001b[39m\u001b[39m{\u001b[39;00matleta[\u001b[39m0\u001b[39m]\u001b[39m}\u001b[39;00m\u001b[39m tem \u001b[39m\u001b[39m{\u001b[39;00matleta[\u001b[39m1\u001b[39m]\u001b[39m}\u001b[39;00m\u001b[39m de altura\u001b[39m\u001b[39m'\u001b[39m)\n",
      "\u001b[0;31mAttributeError\u001b[0m: 'int' object has no attribute 'append'"
     ]
    }
   ],
   "source": [
    "#8\n",
    "\n",
    "\n",
    "\n",
    "n = int(input(\"Digite a quantidade de atletas: \"))\n",
    "\n",
    "# Inicialize as variáveis para armazenar o atleta mais alto e mais baixo\n",
    "mais_alto = 0\n",
    "mais_baixo = float('inf')\n",
    "\n",
    "soma_alturas = 0\n",
    "\n",
    "for i in range(n):\n",
    "    numero_inscricao = int(input(\"Digite o número de inscrição do atleta: \"))\n",
    "    altura = float(input(\"Digite a altura do atleta em centímetros: \"))\n",
    "\n",
    "    soma_alturas += altura\n",
    "\n",
    "    if altura > mais_alto:\n",
    "        mais_alto = altura\n",
    "        inscricao_alto = numero_inscricao\n",
    "\n",
    "    if altura < mais_baixo:\n",
    "        mais_baixo = altura\n",
    "        inscricao_baixo = numero_inscricao\n",
    "\n",
    "media_alturas = soma_alturas / n\n",
    "\n",
    "# Imprima os resultados\n",
    "print(\"Atleta mais alto:\")\n",
    "print(\"Número de inscrição:\", inscricao_alto)\n",
    "print(\"Altura:\", mais_alto)\n",
    "\n",
    "print(\"\\nAtleta mais baixo:\")\n",
    "print(\"Número de inscrição:\", inscricao_baixo)\n",
    "print(\"Altura:\", mais_baixo)\n",
    "\n",
    "print(\"\\nAltura média do grupo de atletas:\", media_alturas)\n"
   ]
  },
  {
   "cell_type": "code",
   "execution_count": null,
   "metadata": {},
   "outputs": [],
   "source": [
    "#9\n",
    "\n"
   ]
  },
  {
   "cell_type": "code",
   "execution_count": null,
   "metadata": {},
   "outputs": [
    {
     "ename": "",
     "evalue": "",
     "output_type": "error",
     "traceback": [
      "\u001b[1;31mA execução de células com '/usr/bin/python3' requer o pacote ipykernel.\n",
      "\u001b[1;31mRun the following command to install 'ipykernel' into the Python environment. \n",
      "\u001b[1;31mCommand: '/usr/bin/python3 -m pip install ipykernel -U --user --force-reinstall'"
     ]
    }
   ],
   "source": [
    "#10\n",
    "\n",
    "n = int(input(\"Digite um número inteiro positivo: \"))\n",
    "fatorial = 1\n",
    "\n",
    "if n < 0:\n",
    "    print(\"O fatorial não está definido para números negativos.\")\n",
    "elif n == 0:\n",
    "    print(\"O fatorial de 0 é 1.\")\n",
    "else:\n",
    "    for i in range(1, n + 1):\n",
    "        fatorial *= i\n",
    "\n",
    "    print(\"O fatorial de\", n, \"é\", fatorial)\n"
   ]
  },
  {
   "cell_type": "code",
   "execution_count": null,
   "metadata": {},
   "outputs": [],
   "source": [
    "#11\n",
    "\n",
    "soma = 0\n",
    "\n",
    "\n",
    "for num in range(1,101):\n",
    "    soma += num"
   ]
  },
  {
   "cell_type": "code",
   "execution_count": null,
   "metadata": {},
   "outputs": [],
   "source": [
    "#12\n",
    "soma = 0\n",
    "\n",
    "\n",
    "for num in range(1,101):\n",
    "    soma += 1/num"
   ]
  },
  {
   "cell_type": "code",
   "execution_count": null,
   "metadata": {},
   "outputs": [],
   "source": [
    "#17\n",
    "\n",
    "casas = int(input(\"Digite o número de casas visitadas: \"))\n",
    "\n",
    "espectadores = {\n",
    "    4: 0,\n",
    "    5: 0,\n",
    "    9: 0,\n",
    "    12: 0\n",
    "}\n",
    "\n",
    "total_espectadores = 0\n",
    "\n",
    "# Coleta dos dados de audiência\n",
    "for i in range(casas):\n",
    "    canal = int(input(\"Digite o número do canal da casa visitada (4, 5, 9, 12): \"))\n",
    "    num_espectadores = int(input(\"Digite o número de pessoas assistindo: \"))\n",
    "\n",
    "    espectadores[canal] += num_espectadores\n",
    "\n",
    "    total_espectadores += num_espectadores\n",
    "\n",
    "print(\"\\nPercentual de Audiência por Canal:\")\n",
    "\n",
    "for canal, num_espectadores in espectadores.items():\n",
    "    percentual = (num_espectadores / total_espectadores) * 100\n",
    "    print(\"Canal\", canal, \"- Percentual de Audiência:\", percentual, \"%\")\n"
   ]
  },
  {
   "cell_type": "code",
   "execution_count": null,
   "metadata": {},
   "outputs": [],
   "source": [
    "# 18\n",
    "\n",
    "despesas = 200.00\n",
    "\n",
    "lucro_maximo = 0.0\n",
    "preco_ingresso_lucro_maximo = 0.0\n",
    "num_ingressos_lucro_maximo = 0\n",
    "\n",
    "print(\"Preço do Ingresso | Número de Ingressos | Lucro Esperado\")\n",
    "\n",
    "for preco_ingresso in [5.00, 4.50, 4.00, 3.50, 3.00, 2.50, 2.00, 1.50, 1.00]:\n",
    "    aumento_ingressos = int((preco_ingresso - 5.00) / 0.50) * 26\n",
    "    num_ingressos = 120 + aumento_ingressos\n",
    "\n",
    "    total_arrecadado = num_ingressos * preco_ingresso\n",
    "    lucro_esperado = total_arrecadado - despesas\n",
    "\n",
    "    if lucro_esperado > lucro_maximo:\n",
    "        lucro_maximo = lucro_esperado\n",
    "        preco_ingresso_lucro_maximo = preco_ingresso\n",
    "        num_ingressos_lucro_maximo = num_ingressos\n",
    "\n",
    "    print(f\"R$ {preco_ingresso:,.2f}              | {num_ingressos:<18} | R$ {lucro_esperado:,.2f}\")\n",
    "\n",
    "print(\"\\nLucro Máximo Esperado:\")\n",
    "print(f\"Preço do Ingresso: R$ {preco_ingresso_lucro_maximo:,.2f}\")\n",
    "print(\"Número de Ingressos:\", num_ingressos_lucro_maximo)\n",
    "print(f\"Lucro Esperado: R$ {lucro_maximo:,.2f}\")\n"
   ]
  },
  {
   "cell_type": "code",
   "execution_count": null,
   "metadata": {},
   "outputs": [],
   "source": [
    "# 19"
   ]
  }
 ],
 "metadata": {
  "kernelspec": {
   "display_name": "Python 3",
   "language": "python",
   "name": "python3"
  },
  "language_info": {
   "codemirror_mode": {
    "name": "ipython",
    "version": 3
   },
   "file_extension": ".py",
   "mimetype": "text/x-python",
   "name": "python",
   "nbconvert_exporter": "python",
   "pygments_lexer": "ipython3",
   "version": "3.11.2"
  },
  "orig_nbformat": 4
 },
 "nbformat": 4,
 "nbformat_minor": 2
}
