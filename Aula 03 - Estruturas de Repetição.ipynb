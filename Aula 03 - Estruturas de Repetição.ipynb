{
 "cells": [
  {
   "cell_type": "code",
   "execution_count": 1,
   "metadata": {},
   "outputs": [
    {
     "name": "stdout",
     "output_type": "stream",
     "text": [
      "-5 é negativo\n",
      "-4 é negativo\n",
      "-3 é negativo\n",
      "-2 é negativo\n",
      "-1 é negativo\n",
      "0 é zero\n",
      "1 é positivo\n",
      "2 é positivo\n",
      "3 é positivo\n",
      "4 é positivo\n",
      "5 é positivo\n",
      "6 é positivo\n",
      "7 é positivo\n",
      "8 é positivo\n",
      "9 é positivo\n",
      "10 é positivo\n",
      "11 é positivo\n",
      "12 é positivo\n",
      "13 é positivo\n",
      "14 é positivo\n"
     ]
    }
   ],
   "source": [
    "#1 \n",
    "\n",
    "for num in range(-5,15):\n",
    "    if num > 0:\n",
    "        print(f\"{num} é positivo\")\n",
    "    elif num < 0:\n",
    "        print(f\"{num} é negativo\")\n",
    "    else:\n",
    "        print(f\"{num} é zero\")\n",
    "        "
   ]
  },
  {
   "cell_type": "code",
   "execution_count": 2,
   "metadata": {},
   "outputs": [
    {
     "name": "stdout",
     "output_type": "stream",
     "text": [
      "1 é impar\n",
      "2 é par\n",
      "3 é impar\n",
      "4 é par\n",
      "5 é impar\n",
      "6 é par\n",
      "7 é impar\n",
      "8 é par\n",
      "9 é impar\n",
      "10 é par\n",
      "11 é impar\n",
      "12 é par\n",
      "13 é impar\n",
      "14 é par\n"
     ]
    }
   ],
   "source": [
    "#2\n",
    "\n",
    "for num in range(1,15):\n",
    "    if num % 2 == 0:\n",
    "        print(f\"{num} é par\")\n",
    "    else:\n",
    "        print(f\"{num} é impar\")"
   ]
  },
  {
   "cell_type": "code",
   "execution_count": 7,
   "metadata": {},
   "outputs": [
    {
     "name": "stdout",
     "output_type": "stream",
     "text": [
      "o maior é 90 e o menor é 0\n"
     ]
    }
   ],
   "source": [
    "#3\n",
    "\n",
    "num = int(input(\"Digite um número: \"))\n",
    "\n",
    "maior,menor = num,num\n",
    "\n",
    "while num != 0:\n",
    "    num = int(input(\"Digite um número: \"))\n",
    "    if num > maior:\n",
    "        maior = num\n",
    "    elif num < menor:\n",
    "        menor = num\n",
    "    \n",
    "    \n",
    "print(f'o maior é {maior} e o menor é {menor}')\n"
   ]
  },
  {
   "cell_type": "code",
   "execution_count": null,
   "metadata": {},
   "outputs": [],
   "source": [
    "#4\n",
    "\n",
    "pares = 0\n",
    "impares = 0\n",
    "\n",
    "for num in range(1,100):\n",
    "    if num % 2 == 0:\n",
    "        pares = pares + num\n",
    "    else:\n",
    "        impares = impares + num\n",
    "    "
   ]
  },
  {
   "cell_type": "code",
   "execution_count": null,
   "metadata": {},
   "outputs": [],
   "source": [
    "#5\n",
    "\n",
    "alturas = []\n",
    "\n",
    "for pessoa in range(20):\n",
    "    alturas.append(float(input(\"Digite a altura: \")))\n",
    "    \n",
    "media = sum(alturas)/len(alturas)"
   ]
  },
  {
   "cell_type": "code",
   "execution_count": null,
   "metadata": {},
   "outputs": [],
   "source": [
    "#6\n",
    "\n",
    "qnt_negativos = 0 \n",
    "for num in range (-10,10):\n",
    "    if num < 0:\n",
    "        qnt_negativos +=1\n",
    "    "
   ]
  },
  {
   "cell_type": "code",
   "execution_count": null,
   "metadata": {},
   "outputs": [],
   "source": [
    "#7\n",
    "qnt_tinta =100\n",
    "\n",
    "while qnt_tinta != 0:\n",
    "    print(\"Enquanto tem tinta a caneta escreve...\")\n",
    "    qnt_tinta -= 2"
   ]
  },
  {
   "cell_type": "code",
   "execution_count": 1,
   "metadata": {},
   "outputs": [
    {
     "ename": "AttributeError",
     "evalue": "'int' object has no attribute 'append'",
     "output_type": "error",
     "traceback": [
      "\u001b[0;31m---------------------------------------------------------------------------\u001b[0m",
      "\u001b[0;31mAttributeError\u001b[0m                            Traceback (most recent call last)",
      "Cell \u001b[0;32mIn[1], line 9\u001b[0m\n\u001b[1;32m      7\u001b[0m \u001b[39mfor\u001b[39;00m atletas \u001b[39min\u001b[39;00m \u001b[39mrange\u001b[39m(\u001b[39m20\u001b[39m):\n\u001b[1;32m      8\u001b[0m     inscricao, altura \u001b[39m=\u001b[39m \u001b[39minput\u001b[39m(\u001b[39m\"\u001b[39m\u001b[39mDigite a inscrição\u001b[39m\u001b[39m\"\u001b[39m), \u001b[39minput\u001b[39m(\u001b[39m\"\u001b[39m\u001b[39mDigite a altura\u001b[39m\u001b[39m\"\u001b[39m)\n\u001b[0;32m----> 9\u001b[0m     atletas\u001b[39m.\u001b[39;49mappend({inscricao,altura})\n\u001b[1;32m     12\u001b[0m \u001b[39mfor\u001b[39;00m atleta \u001b[39min\u001b[39;00m atletas:\n\u001b[1;32m     13\u001b[0m     \u001b[39mprint\u001b[39m(\u001b[39mf\u001b[39m\u001b[39m'\u001b[39m\u001b[39mO atleta \u001b[39m\u001b[39m{\u001b[39;00matleta[\u001b[39m0\u001b[39m]\u001b[39m}\u001b[39;00m\u001b[39m tem \u001b[39m\u001b[39m{\u001b[39;00matleta[\u001b[39m1\u001b[39m]\u001b[39m}\u001b[39;00m\u001b[39m de altura\u001b[39m\u001b[39m'\u001b[39m)\n",
      "\u001b[0;31mAttributeError\u001b[0m: 'int' object has no attribute 'append'"
     ]
    }
   ],
   "source": [
    "#8\n",
    "\n",
    "\n",
    "\n",
    "atletas = []\n",
    "\n",
    "for atletas in range(20):\n",
    "    inscricao, altura = input(\"Digite a inscrição\"), input(\"Digite a altura\")\n",
    "    atletas.append({inscricao:altura})\n",
    "\n",
    "\n",
    "for atleta in atletas:\n",
    "    print(f'O atleta {atleta[0]} tem {atleta[1]} de altura')\n",
    "\n",
    "    \n"
   ]
  },
  {
   "cell_type": "code",
   "execution_count": null,
   "metadata": {},
   "outputs": [],
   "source": []
  }
 ],
 "metadata": {
  "kernelspec": {
   "display_name": "Python 3",
   "language": "python",
   "name": "python3"
  },
  "language_info": {
   "codemirror_mode": {
    "name": "ipython",
    "version": 3
   },
   "file_extension": ".py",
   "mimetype": "text/x-python",
   "name": "python",
   "nbconvert_exporter": "python",
   "pygments_lexer": "ipython3",
   "version": "3.10.6"
  },
  "orig_nbformat": 4
 },
 "nbformat": 4,
 "nbformat_minor": 2
}
